{
 "cells": [
  {
   "cell_type": "code",
   "execution_count": null,
   "metadata": {
    "collapsed": false,
    "deletable": true,
    "editable": true
   },
   "outputs": [],
   "source": [
    "from imports import *"
   ]
  },
  {
   "cell_type": "code",
   "execution_count": null,
   "metadata": {
    "collapsed": false,
    "deletable": true,
    "editable": true
   },
   "outputs": [],
   "source": [
    "import re\n",
    "import datetime as dt\n",
    "import time\n",
    "from collections import defaultdict\n",
    "import json\n",
    "\n",
    "# import requests\n",
    "import requests_cache\n",
    "\n",
    "from requests_cache import CachedSession\n",
    "ss = CachedSession('pollen_darksky', backend='sqlite')\n",
    "\n",
    "from bs4 import BeautifulSoup\n",
    "\n",
    "# requests_cache.install_cache('pollen_darksky', backend='sqlite')\n",
    "%matplotlib inline\n",
    "\n",
    "# %mkdir cache\n",
    "import joblib; mem = joblib.Memory(cachedir='cache2')"
   ]
  },
  {
   "cell_type": "code",
   "execution_count": null,
   "metadata": {
    "collapsed": true,
    "deletable": true,
    "editable": true
   },
   "outputs": [],
   "source": [
    "from requests_cache.backends.redis import RedisDict\n",
    "rd = RedisDict('red-cache')\n",
    "\n",
    "import torch as T\n",
    "\n",
    "%load_ext line_profiler"
   ]
  },
  {
   "cell_type": "code",
   "execution_count": null,
   "metadata": {
    "collapsed": false,
    "deletable": true,
    "editable": true
   },
   "outputs": [],
   "source": [
    "import util.pollen_utils; reload(util.pollen_utils); from util.pollen_utils import (\n",
    "    pollen_url, pollen_date2df as pollen_date2df_, pollen_data as pollen_data_\n",
    ")\n",
    "\n",
    "import util.utils; reload(util.utils); from util.utils import (\n",
    "    check_one2one, yrmths, flatten_multindex, ends_with,\n",
    "    batchify, test_batchify, collapse_dims, test_collapse_dims_,\n",
    "    batch_getterer,\n",
    "    to_sub_seqs, test_to_sub_seqs,\n",
    "    ravel, repackage_hidden, mse\n",
    ")\n",
    "\n",
    "test_to_sub_seqs()\n",
    "test_batchify()\n",
    "pollen_date2df = mem.cache(pollen_date2df_)\n",
    "pollen_data = mem.cache(pollen_data_)\n",
    "test_collapse_dims_(T)\n",
    ";;"
   ]
  },
  {
   "cell_type": "code",
   "execution_count": null,
   "metadata": {
    "collapsed": false,
    "deletable": true,
    "editable": true
   },
   "outputs": [],
   "source": [
    "pd.options.display.max_columns = 40"
   ]
  },
  {
   "cell_type": "code",
   "execution_count": null,
   "metadata": {
    "collapsed": false,
    "deletable": true,
    "editable": true
   },
   "outputs": [],
   "source": [
    "# u = pollen_url.format(year=2014, month=1)"
   ]
  },
  {
   "cell_type": "markdown",
   "metadata": {
    "collapsed": false,
    "deletable": true,
    "editable": true
   },
   "source": [
    "    for yr in range(2000, 2018):\n",
    "        for m in range(1, 13):\n",
    "            u = url.format(year=yr, month=m)\n",
    "            r = requests.get(u)\n",
    "            print(yr, m, end='; ')"
   ]
  },
  {
   "cell_type": "markdown",
   "metadata": {},
   "source": [
    "# Pollen"
   ]
  },
  {
   "cell_type": "code",
   "execution_count": null,
   "metadata": {
    "collapsed": true
   },
   "outputs": [],
   "source": [
    "# Sometimes Jan calendar will have counts from days\n",
    "# at beginning of Feb or end or previous Dec.\n",
    "# Just checking that they agree w/ numbers in\n",
    "# those months' calendars before dropping dupe\n",
    "# dates\n",
    "poldf = pollen_data(yrmths)\n",
    "check_one2one(poldf, 'Date', 'Count')\n",
    "\n",
    "poldf = poldf.drop_duplicates('Date').reset_index(drop=1)\n",
    "poldf.loc[poldf.Count == -1, 'Count'] = np.nan\n",
    "poldf = poldf.dropna(axis=0)\n",
    "poldf.Date = pd.to_datetime(poldf.Date)\n",
    "\n",
    "poldf = poldf.assign(\n",
    "    Yr =lambda x: x.Date.dt.year,\n",
    "    M  =lambda x: x.Date.dt.month,\n",
    "    D  =lambda x: x.Date.dt.day,\n",
    "    Doy=lambda x: x.Date.dt.dayofyear,\n",
    ")\n",
    "\n",
    "poldf['Dayi'] = (poldf.Date - poldf.Date.min()).dt.days\n",
    "poldf['Prev_cnt'] = poldf.Count.shift(1).fillna(method='ffill').fillna(0)  #.interpolate()\n",
    "poldf['Prev_cnt_null'] = poldf.Dayi.shift() != (poldf.Dayi - 1)"
   ]
  },
  {
   "cell_type": "code",
   "execution_count": null,
   "metadata": {
    "collapsed": true
   },
   "outputs": [],
   "source": [
    "from pandas.util.testing import assert_frame_equal"
   ]
  },
  {
   "cell_type": "code",
   "execution_count": null,
   "metadata": {
    "collapsed": true
   },
   "outputs": [],
   "source": [
    "No = len(poldf2)"
   ]
  },
  {
   "cell_type": "code",
   "execution_count": null,
   "metadata": {
    "collapsed": false
   },
   "outputs": [],
   "source": [
    "assert_frame_equal(poldf.reset_index(drop=1)[:No], poldf2.reset_index(drop=1))"
   ]
  },
  {
   "cell_type": "code",
   "execution_count": null,
   "metadata": {
    "collapsed": true
   },
   "outputs": [],
   "source": [
    "feather.write_dataframe(poldf, 'cache/pollen.fth')"
   ]
  },
  {
   "cell_type": "code",
   "execution_count": null,
   "metadata": {
    "collapsed": true
   },
   "outputs": [],
   "source": [
    "poldf2 = feather.read_dataframe('cache/pollen.fth')"
   ]
  },
  {
   "cell_type": "markdown",
   "metadata": {},
   "source": [
    "    cs = requests.session()\n",
    "    u = pollen_url.format(year=2017, month=4)\n",
    "\n",
    "    cs.cache.delete_url(u)\n",
    "    r = requests.get(u)"
   ]
  },
  {
   "cell_type": "markdown",
   "metadata": {},
   "source": [
    "    !rm -r cache/joblib/util/pollen_utils/pollen_date2df/\n",
    "    !rm -r cache/joblib/util/pollen_utils/pollen_data/"
   ]
  },
  {
   "cell_type": "markdown",
   "metadata": {},
   "source": [
    "    for yr in range(2000, 2018):\n",
    "        for m in range(1, 13):\n",
    "            u = url.format(year=yr, month=m)\n",
    "            r = requests.get(u)\n",
    "            print(yr, m, end='; ')"
   ]
  },
  {
   "cell_type": "markdown",
   "metadata": {},
   "source": [
    "## Process monthly calendar"
   ]
  },
  {
   "cell_type": "markdown",
   "metadata": {},
   "source": [
    "r = requests.get(u)\n",
    "soup = BeautifulSoup(r.content, \"lxml\")\n",
    "sel = 'div.calendar-row.calendar-row-4 > div > div > span.count > a'\n",
    "soup.select_one(sel)"
   ]
  },
  {
   "cell_type": "markdown",
   "metadata": {
    "deletable": true,
    "editable": true
   },
   "source": [
    "# Darksky"
   ]
  },
  {
   "cell_type": "code",
   "execution_count": null,
   "metadata": {
    "collapsed": true,
    "deletable": true,
    "editable": true
   },
   "outputs": [],
   "source": [
    "def mkds_url(sdate):\n",
    "    loc = '33.7490,-84.3880'\n",
    "    url_temp = 'https://api.darksky.net/forecast/{key}/{loc},{time}?exclude=flags'\n",
    "    return url_temp.format(key=key, loc=loc, time=mktime(sdate))\n",
    "\n",
    "\n",
    "with open('KEY.txt', 'r') as f:\n",
    "    key = f.read().strip()"
   ]
  },
  {
   "cell_type": "markdown",
   "metadata": {
    "deletable": true,
    "editable": true
   },
   "source": [
    "#### Time series generator"
   ]
  },
  {
   "cell_type": "code",
   "execution_count": null,
   "metadata": {
    "collapsed": true,
    "deletable": true,
    "editable": true
   },
   "outputs": [],
   "source": [
    "def date_rng_gen(start):\n",
    "    if isinstance(start, str):\n",
    "        start = dt.datetime.strptime(start, '%Y-%m-%d')\n",
    "    while 1:\n",
    "        # print(start)\n",
    "        rng = gen_yr_rng(start, backward=True)\n",
    "        # print(rng[:5])\n",
    "        start = rng[-1]\n",
    "        for d in rng[:-1]:\n",
    "            yield d\n",
    "\n",
    "def gen_yr_rng(start, backward=True):\n",
    "    start = start\n",
    "    yr = start.year\n",
    "    dprev = start.replace(year=yr - 1)\n",
    "    rng = pd.date_range(start=dprev, end=start)\n",
    "    if backward:\n",
    "        return rng[::-1]\n",
    "    return rng\n",
    "    d2 = dt.datetime(*start.timetuple()[:-3])\n",
    "\n",
    "def test_date_rng_gen():\n",
    "    ts = list(it.islice(date_rng_gen('2017-03-01'), 400))\n",
    "    a, b = ts[0], ts[-1]\n",
    "    assert (pd.date_range(b, a)[::-1] == ts).all()\n",
    "    \n",
    "    s = pd.Series(ts)\n",
    "    assert s.value_counts(normalize=0).max() == 1\n",
    "    \n",
    "    \n",
    "def mktime(s, hour=12):\n",
    "    # tm\n",
    "    try:\n",
    "        d = dt.datetime.strptime(s, \"%Y-%d-%m\")\n",
    "    except TypeError:\n",
    "        d = s\n",
    "#     if isinstance(s, str):\n",
    "#     else:\n",
    "#         d = s\n",
    "        \n",
    "    if hour:\n",
    "        d = d.replace(hour=hour)\n",
    "    f = time.mktime(d.timetuple())\n",
    "    return int(f)\n",
    "    \n",
    "test_date_rng_gen()"
   ]
  },
  {
   "cell_type": "markdown",
   "metadata": {
    "deletable": true,
    "editable": true
   },
   "source": [
    "### Extract data"
   ]
  },
  {
   "cell_type": "code",
   "execution_count": null,
   "metadata": {
    "collapsed": true,
    "deletable": true,
    "editable": true
   },
   "outputs": [],
   "source": [
    "def camel2score(s):\n",
    "    return s[0].upper() + ''.join([('_' + c.lower()) if c.isupper() else c for c in s[1:]])\n",
    "\n",
    "def parse_data(j):\n",
    "    hrs = j.pop('hourly')['data']\n",
    "    # global hrdf\n",
    "    js = json.dumps(hrs)\n",
    "    hrdf = pd.read_json(js) #.rename(columns=camel2score)\n",
    "    \n",
    "    _dl = j.pop('daily')\n",
    "    [[dl]] = _dl.values()\n",
    "    cr = j.pop('currently')\n",
    "    \n",
    "#     if hrdf.shape != (24,15):\n",
    "#         print(hrdf.shape)\n",
    "#     assert hrdf.shape == (24,15), 'Hr shape: {}'.format(hrdf.shape)\n",
    "    assert sorted(j) == ['latitude', 'longitude', 'offset', 'timezone']\n",
    "    return hrdf, dl, cr, j\n",
    "\n",
    "# hrdf, dl, cr, j = parse_data(r.json())"
   ]
  },
  {
   "cell_type": "code",
   "execution_count": null,
   "metadata": {
    "collapsed": false,
    "deletable": true,
    "editable": true
   },
   "outputs": [],
   "source": [
    "today = '2017-04-05'"
   ]
  },
  {
   "cell_type": "code",
   "execution_count": null,
   "metadata": {
    "collapsed": true,
    "deletable": true,
    "editable": true
   },
   "outputs": [],
   "source": [
    "# Pull new\n",
    "for d in date_rng_gen(today):\n",
    "    if d.month == d.day == 1:\n",
    "        print(d.date())\n",
    "    u = mkds_url(d)\n",
    "    if (u in rd) or ss.cache.has_url(u):\n",
    "        print('.', end='')\n",
    "        continue\n",
    "    r = ss.get(u)\n",
    "    if r.status_code == 403:\n",
    "        print('Forbidden')\n",
    "        break\n",
    "    if r.status_code != 200:\n",
    "        print(d, r.status_code)"
   ]
  },
  {
   "cell_type": "code",
   "execution_count": null,
   "metadata": {
    "collapsed": true,
    "deletable": true,
    "editable": true
   },
   "outputs": [],
   "source": [
    "r = ss.get(u)"
   ]
  },
  {
   "cell_type": "code",
   "execution_count": null,
   "metadata": {
    "collapsed": false,
    "deletable": true,
    "editable": true
   },
   "outputs": [],
   "source": [
    "r.url"
   ]
  },
  {
   "cell_type": "markdown",
   "metadata": {
    "deletable": true,
    "editable": true
   },
   "source": [
    "### Sync Sqlite db w/ Redis"
   ]
  },
  {
   "cell_type": "code",
   "execution_count": null,
   "metadata": {
    "collapsed": false,
    "deletable": true,
    "editable": true
   },
   "outputs": [],
   "source": [
    "def sync_rdd(ss, rd, stdate='2017-03-01'):\n",
    "    n = 0\n",
    "    for d in date_rng_gen(stdate):\n",
    "        if d.month == d.day == 1:\n",
    "            print(d.date(), end=' ')\n",
    "        u = mkds_url(d)\n",
    "        if u in rd:\n",
    "            continue\n",
    "\n",
    "        if not ss.cache.has_url(u):\n",
    "            break\n",
    "        r = ss.get(u)\n",
    "        assert u == r.url\n",
    "        rd[r.url] = r.json()\n",
    "        print('.', end='')\n",
    "        n += 1\n",
    "    return n\n",
    "        \n",
    "sync_rdd(ss, rd, stdate=today)"
   ]
  },
  {
   "cell_type": "markdown",
   "metadata": {
    "deletable": true,
    "editable": true
   },
   "source": [
    "### Accumulate and extract data"
   ]
  },
  {
   "cell_type": "code",
   "execution_count": null,
   "metadata": {
    "collapsed": true,
    "deletable": true,
    "editable": true
   },
   "outputs": [],
   "source": [
    "def accum(stdate='2017-03-01'):\n",
    "    \"\"\"Roll through the dates, pull out cached\n",
    "    requests, and add parsed data to list\"\"\"\n",
    "    dat = []\n",
    "\n",
    "    for i, d in enumerate(date_rng_gen(stdate)):\n",
    "#         if i > 20:\n",
    "#             break\n",
    "        if d.month == d.day == 1:\n",
    "            print(d.date())\n",
    "        u = mkds_url(d)\n",
    "        # if ss.cache.has_url(u):\n",
    "        #     r = ss.get(u)\n",
    "        #     dat.append(parse_data(r.json()))\n",
    "        if u in rd:\n",
    "            j = rd[u]\n",
    "            parsed = parse_data(j)\n",
    "            dat.append(parsed)\n",
    "            # print('.', end='')\n",
    "        else:\n",
    "            break\n",
    "    return dat\n",
    "    return"
   ]
  },
  {
   "cell_type": "markdown",
   "metadata": {
    "deletable": true,
    "editable": true
   },
   "source": [
    "%lprun -f pd.read_json accum(stdate='2017-03-01')"
   ]
  },
  {
   "cell_type": "code",
   "execution_count": null,
   "metadata": {
    "collapsed": false,
    "deletable": true,
    "editable": true
   },
   "outputs": [],
   "source": [
    "dat = accum(stdate='2017-04-04')"
   ]
  },
  {
   "cell_type": "code",
   "execution_count": null,
   "metadata": {
    "collapsed": true,
    "deletable": true,
    "editable": true
   },
   "outputs": [],
   "source": [
    "hrdfs, dls, crs, _ = zip(*dat)"
   ]
  },
  {
   "cell_type": "code",
   "execution_count": null,
   "metadata": {
    "collapsed": false,
    "deletable": true,
    "editable": true
   },
   "outputs": [],
   "source": [
    "dailydf = pd.read_json(json.dumps(dls)).rename(columns=camel2score)"
   ]
  },
  {
   "cell_type": "code",
   "execution_count": null,
   "metadata": {
    "collapsed": false,
    "deletable": true,
    "editable": true
   },
   "outputs": [],
   "source": [
    "def concat(dfs):\n",
    "    all_cols = {c for df in dfs for c in df}\n",
    "    col_dat = defaultdict(list)\n",
    "    for cname in all_cols:\n",
    "        for df in dfs:\n",
    "            l = len(df)\n",
    "            col_dat[cname].extend(df.get(cname, [None] * l))\n",
    "    return DataFrame(col_dat)\n",
    "\n",
    "%time hr_df = concat(hrdfs).rename(columns=camel2score)"
   ]
  },
  {
   "cell_type": "code",
   "execution_count": null,
   "metadata": {
    "collapsed": false,
    "deletable": true,
    "editable": true
   },
   "outputs": [],
   "source": [
    "feather.write_dataframe(dailydf, 'cache/dark_day.fth')\n",
    "# feather.write_dataframe(hr_df, 'cache/dark_hr.fth')"
   ]
  },
  {
   "cell_type": "code",
   "execution_count": null,
   "metadata": {
    "collapsed": false,
    "deletable": true,
    "editable": true
   },
   "outputs": [],
   "source": [
    "hr_dat[:2]"
   ]
  },
  {
   "cell_type": "markdown",
   "metadata": {
    "deletable": true,
    "editable": true
   },
   "source": [
    "### Analysis of nulls"
   ]
  },
  {
   "cell_type": "code",
   "execution_count": null,
   "metadata": {
    "collapsed": false,
    "deletable": true,
    "editable": true
   },
   "outputs": [],
   "source": [
    "def rep_with_dummies_(df, col):\n",
    "    df = df.copy()\n",
    "    newcs = pd.get_dummies(df[col])\n",
    "    for c in newcs:\n",
    "        df[c] = newcs[c]\n",
    "    return df.drop(col, axis=1)\n",
    "\n",
    "def rep_with_dummies(df, cols):\n",
    "    for c in cols:\n",
    "        df = rep_with_dummies_(df, c)\n",
    "    return df\n",
    "\n",
    "hr_dat2 = rep_with_dummies(hr_dat, ['Icon', 'Summary', 'Precip_type'])"
   ]
  },
  {
   "cell_type": "code",
   "execution_count": null,
   "metadata": {
    "collapsed": false,
    "deletable": true,
    "editable": true
   },
   "outputs": [],
   "source": [
    "ns = (~(hr_dat == hr_dat))\n",
    "ns.sum()"
   ]
  },
  {
   "cell_type": "code",
   "execution_count": null,
   "metadata": {
    "collapsed": true,
    "deletable": true,
    "editable": true
   },
   "outputs": [],
   "source": [
    "ncols = ns.sum()[ns.sum() > 0]"
   ]
  },
  {
   "cell_type": "code",
   "execution_count": null,
   "metadata": {
    "collapsed": false,
    "deletable": true,
    "editable": true
   },
   "outputs": [],
   "source": [
    "cn = hr_dat.eval('Cloud_cover != Cloud_cover').astype(int)"
   ]
  },
  {
   "cell_type": "code",
   "execution_count": null,
   "metadata": {
    "collapsed": true,
    "deletable": true,
    "editable": true
   },
   "outputs": [],
   "source": []
  },
  {
   "cell_type": "code",
   "execution_count": null,
   "metadata": {
    "collapsed": true,
    "deletable": true,
    "editable": true
   },
   "outputs": [],
   "source": [
    "hr_dat2.corrwith(cn).sort_values(ascending=True)"
   ]
  },
  {
   "cell_type": "code",
   "execution_count": null,
   "metadata": {
    "collapsed": false,
    "deletable": true,
    "editable": true
   },
   "outputs": [],
   "source": [
    "hr_dat2[:3]"
   ]
  },
  {
   "cell_type": "code",
   "execution_count": null,
   "metadata": {
    "collapsed": true,
    "deletable": true,
    "editable": true
   },
   "outputs": [],
   "source": []
  },
  {
   "cell_type": "code",
   "execution_count": null,
   "metadata": {
    "collapsed": true,
    "deletable": true,
    "editable": true
   },
   "outputs": [],
   "source": [
    "\n",
    "\n",
    "\n",
    "\n"
   ]
  },
  {
   "cell_type": "code",
   "execution_count": null,
   "metadata": {
    "collapsed": true,
    "deletable": true,
    "editable": true
   },
   "outputs": [],
   "source": [
    "\n",
    "\n",
    "\n",
    "\n",
    "\n",
    "\n",
    "\n",
    "\n",
    "\n",
    "\n",
    "\n",
    "\n",
    "\n",
    "\n",
    "\n",
    "\n",
    "\n",
    "\n",
    "\n",
    "\n",
    "\n",
    "\n",
    "\n",
    "\n",
    "\n",
    "\n"
   ]
  }
 ],
 "metadata": {
  "kernelspec": {
   "display_name": "Python 3",
   "language": "python",
   "name": "python3"
  },
  "language_info": {
   "codemirror_mode": {
    "name": "ipython",
    "version": 3
   },
   "file_extension": ".py",
   "mimetype": "text/x-python",
   "name": "python",
   "nbconvert_exporter": "python",
   "pygments_lexer": "ipython3",
   "version": "3.6.1"
  }
 },
 "nbformat": 4,
 "nbformat_minor": 2
}
